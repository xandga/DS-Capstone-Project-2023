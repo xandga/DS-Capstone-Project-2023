{
 "cells": [
  {
   "cell_type": "markdown",
   "metadata": {},
   "source": [
    "<img src=\"https://www.driftingruby.com/episodes/openai-api-integration/download_image.png\" width=\"200px\"/>"
   ]
  },
  {
   "cell_type": "markdown",
   "metadata": {},
   "source": [
    "# First connection to GPT model by using OpenAI API"
   ]
  },
  {
   "cell_type": "code",
   "execution_count": 3,
   "metadata": {},
   "outputs": [
    {
     "name": "stdout",
     "output_type": "stream",
     "text": [
      "First LLM API example\n",
      "✅ OpenAI Key loaded (sk-x0n6sWUiOEaMx4NyxL6qT3BlbkFJiqySo...)\n"
     ]
    }
   ],
   "source": [
    "from util import local_settings\n",
    "from openai import OpenAI\n",
    "\n",
    "print(\"First LLM API example\")\n",
    "print(f\"✅ OpenAI Key loaded ({local_settings.OPENAI_API_KEY[0:-15]}...)\")\n",
    "\n",
    "client = OpenAI(api_key=local_settings.OPENAI_API_KEY)\n",
    "\n",
    "def get_completion(prompt, model=\"gpt-3.5-turbo\"):\n",
    "    messages = [{\"role\": \"user\", \"content\": prompt}]\n",
    "\n",
    "    completion = client.chat.completions.create(\n",
    "        model=\"gpt-3.5-turbo\",\n",
    "        messages=messages,\n",
    "        temperature=0,\n",
    "    )\n",
    "\n",
    "    return completion.choices[0].message.content"
   ]
  },
  {
   "cell_type": "code",
   "execution_count": 4,
   "metadata": {},
   "outputs": [
    {
     "name": "stdout",
     "output_type": "stream",
     "text": [
      "Barack Obama is an American politician who served as the 44th President of the United States from 2009 to 2017. He was born on August 4, 1961, in Honolulu, Hawaii. Before becoming president, Obama served as a U.S. Senator from Illinois from 2005 to 2008. He is a member of the Democratic Party and is known for his efforts to reform healthcare, improve relations with other countries, and address issues such as climate change and income inequality. Obama is the first African American to have served as president of the United States.\n"
     ]
    }
   ],
   "source": [
    "prompt = \"Who is Obama\"\n",
    "\n",
    "response = get_completion(prompt)\n",
    "\n",
    "print(response)"
   ]
  },
  {
   "cell_type": "code",
   "execution_count": 3,
   "metadata": {},
   "outputs": [
    {
     "data": {
      "text/plain": [
       "'Madonna is an American singer, songwriter, actress, and businesswoman. She is often referred to as the \"Queen of Pop\" and is known for pushing the boundaries of artistic expression in mainstream music. Madonna has released numerous successful albums and has had many hit songs throughout her career, including \"Like a Virgin,\" \"Material Girl,\" \"Vogue,\" and \"Hung Up.\" She has also acted in several films and has been involved in various philanthropic endeavors.'"
      ]
     },
     "execution_count": 3,
     "metadata": {},
     "output_type": "execute_result"
    }
   ],
   "source": [
    "from util import GPT_Wrapper\n",
    "my_gpt = GPT_Wrapper(local_settings.OPENAI_API_KEY)\n",
    "\n",
    "my_gpt.get_completion(\"Who is MadonNa\")"
   ]
  }
 ],
 "metadata": {
  "kernelspec": {
   "display_name": "env",
   "language": "python",
   "name": "python3"
  },
  "language_info": {
   "codemirror_mode": {
    "name": "ipython",
    "version": 3
   },
   "file_extension": ".py",
   "mimetype": "text/x-python",
   "name": "python",
   "nbconvert_exporter": "python",
   "pygments_lexer": "ipython3",
   "version": "3.10.6"
  }
 },
 "nbformat": 4,
 "nbformat_minor": 2
}
